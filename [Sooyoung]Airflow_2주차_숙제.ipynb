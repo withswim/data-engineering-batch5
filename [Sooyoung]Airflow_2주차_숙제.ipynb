{
  "nbformat": 4,
  "nbformat_minor": 0,
  "metadata": {
    "colab": {
      "name": "[Sooyoung]Airflow 2주차 숙제",
      "provenance": [],
      "collapsed_sections": [],
      "include_colab_link": true
    },
    "kernelspec": {
      "name": "python3",
      "display_name": "Python 3"
    },
    "language_info": {
      "name": "python"
    }
  },
  "cells": [
    {
      "cell_type": "markdown",
      "metadata": {
        "id": "view-in-github",
        "colab_type": "text"
      },
      "source": [
        "<a href=\"https://colab.research.google.com/github/withswim/data-engineering-batch5/blob/master/%5BSooyoung%5DAirflow_2%EC%A3%BC%EC%B0%A8_%EC%88%99%EC%A0%9C.ipynb\" target=\"_parent\"><img src=\"https://colab.research.google.com/assets/colab-badge.svg\" alt=\"Open In Colab\"/></a>"
      ]
    },
    {
      "cell_type": "markdown",
      "metadata": {
        "id": "mmZlpXxzmOJ9"
      },
      "source": [
        "# **1. name, gender 읽어오기 ETL 버전 완성**"
      ]
    },
    {
      "cell_type": "code",
      "metadata": {
        "id": "5m0JfqJDroaJ",
        "colab": {
          "base_uri": "https://localhost:8080/"
        },
        "outputId": "8d952cba-d304-49b0-ca03-03f30de58b6b"
      },
      "source": [
        "import psycopg2\n",
        "import requests\n",
        "import csv\n",
        "\n",
        "def extract(url):\n",
        "  f = requests.get(url)\n",
        "  return (f.text)\n",
        "\n",
        "def transform(data):\n",
        "  reader = csv.reader(data.strip().split(\"\\n\"))\n",
        "  return reader\n",
        "\n",
        "# Redshift connection 함수\n",
        "def get_Redshift_connection():\n",
        "    host = \"ssde.cnqux5xggmn5.us-east-2.redshift.amazonaws.com\"\n",
        "    redshift_user = \"withswim\"\n",
        "    redshift_pass = \"Withswim!1\"\n",
        "    port = 5439\n",
        "    dbname = \"dev\"\n",
        "    conn = psycopg2.connect(\"dbname={dbname} user={user} host={host} password={password} port={port}\".format(\n",
        "        dbname=dbname,\n",
        "        user=redshift_user,\n",
        "        password=redshift_pass,\n",
        "        host=host,\n",
        "        port=port\n",
        "    ))\n",
        "    conn.set_session(autocommit=True)\n",
        "    return conn.cursor()\n",
        "\n",
        "\n",
        "def load(csv_reader):\n",
        "\n",
        "    try:\n",
        "        # create a conncection\n",
        "        cur = get_Redshift_connection()\n",
        "      \n",
        "    except Exception as err:\n",
        "        print(\"Exception occured while creating a connection\", err)\n",
        "\n",
        "    else:\n",
        "        try:\n",
        "            sql = \"\"\"BEGIN;\n",
        "\n",
        "                    CREATE TABLE IF NOT EXISTS name_gender (\n",
        "                    name varchar(64),\n",
        "                    gender varchar(16)\n",
        "                    );\n",
        "\n",
        "                    SELECT COUNT(1) FROM name_gender;\n",
        "                    \"\"\"\n",
        "            cur.execute(sql)\n",
        "            bef_cnt = cur.fetchone()[0]\n",
        "\n",
        "            sql = \"\"\"DELETE FROM name_gender;\"\"\"\n",
        "            cur.execute(sql)\n",
        " \n",
        "            next(csv_reader) #첫번째 title은 skip\n",
        "            for name, gender in csv_reader:\n",
        "                sql = \"\"\"INSERT INTO NAME_GENDER (NAME, GENDER) VALUES (%s, %s);\"\"\"\n",
        "                cur.execute(sql,(name, gender))\n",
        "\n",
        "            sql = \"\"\"SELECT COUNT(1) FROM name_gender;\"\"\"\n",
        "            cur.execute(sql)\n",
        "            aft_cnt = cur.fetchone()[0]\n",
        "\n",
        "            #멱등성 보장되는지 확인\n",
        "            if bef_cnt != aft_cnt and bef_cnt != 0:\n",
        "                raise Exception\n",
        "\n",
        "            cur.execute(\"END\")\n",
        "\n",
        "        except Exception as err:\n",
        "            cur.execute(\"ROLLBACK\")\n"
      ],
      "execution_count": null,
      "outputs": [
        {
          "output_type": "stream",
          "name": "stderr",
          "text": [
            "/usr/local/lib/python3.7/dist-packages/psycopg2/__init__.py:144: UserWarning: The psycopg2 wheel package will be renamed from release 2.8; in order to keep installing from binary please use \"pip install psycopg2-binary\" instead. For details see: <http://initd.org/psycopg/docs/install.html#binary-install-from-pypi>.\n",
            "  \"\"\")\n"
          ]
        }
      ]
    },
    {
      "cell_type": "code",
      "metadata": {
        "id": "WfZfpHbespZH"
      },
      "source": [
        "link = \"https://s3-geospatial.s3-us-west-2.amazonaws.com/name_gender.csv\"\n",
        "\n",
        "data = extract(link)\n",
        "csv_reader = transform(data)\n",
        "load(csv_reader)"
      ],
      "execution_count": null,
      "outputs": []
    },
    {
      "cell_type": "markdown",
      "metadata": {
        "id": "WDuLswLHotPJ"
      },
      "source": [
        "# **2. 서울 7일 평균/최소/최대 온도 읽어오기 (Full Fresh 버전)**"
      ]
    },
    {
      "cell_type": "markdown",
      "metadata": {
        "id": "vxA3IwNtFv9k"
      },
      "source": [
        "## **API Key 숨기기**\n",
        "---\n",
        "*   API key 정보를 가지고 있는 config.txt파일을 만들어서 colab에 올리거나 google drive에 올리고 mount\n",
        "*   config파일을 열어서 API key값을 읽어 온 후, url에 붙여서 사용\n",
        "*   문제점: colab을 사용할 경우 새로 열때마다 파일을 업로드 해주어야 함, google drive에 올릴경우 google drive 비밀번호를 입력해야 함"
      ]
    },
    {
      "cell_type": "code",
      "metadata": {
        "id": "EkcWuxi5LTLd"
      },
      "source": [
        "from google.colab import drive\n",
        "drive.mount('/content/drive')"
      ],
      "execution_count": null,
      "outputs": []
    },
    {
      "cell_type": "code",
      "metadata": {
        "id": "aW63ETxho1Iw"
      },
      "source": [
        "import requests\n",
        "from datetime import datetime, date\n",
        "import json\n",
        "\n",
        "from google.colab import files\n",
        "\n",
        "with open('config.txt', 'r') as f:\n",
        "  data = f.readline()\n",
        "  api_key = data\n",
        "  f.close()\n",
        "\n",
        "\n",
        "url = \"https://api.openweathermap.org/data/2.5/onecall?lat=37.34&lon=126.57&exclude=current,minutely,hourly,alerts&appid=\"+api_key\n",
        "\n",
        "response = requests.get(url)\n",
        "data = response.json()\n",
        "\n",
        "daily = data[\"daily\"]\n",
        "\n",
        "try:\n",
        "    # create a conncection\n",
        "    cur = get_Redshift_connection()\n",
        "  \n",
        "except Exception as err:\n",
        "    print(\"Exception occured while creating a connection\", err)\n",
        "\n",
        "else:\n",
        "    try:\n",
        "      sql = \"\"\"BEGIN;\n",
        "               CREATE TABLE IF NOT EXISTS weather_forecast_full (\n",
        "                  date DATE PRIMARY KEY,\n",
        "                  day float,\n",
        "                  min float,\n",
        "                  max float\n",
        "              );\n",
        "              DELETE FROM weather_forecast_full;\"\"\"\n",
        "      cur.execute(sql)\n",
        "\n",
        "      for entry in daily:\n",
        "          dt = datetime.fromtimestamp(entry[\"dt\"]).date()\n",
        "          day = entry[\"temp\"][\"day\"] #평균온도\n",
        "          min = entry[\"temp\"][\"min\"] #최소온도 \n",
        "          max = entry[\"temp\"][\"max\"] #최대온도\n",
        "\n",
        "          sql = \"\"\"INSERT INTO weather_forecast_full (date, day, min, max) VALUES (%s, %s, %s, %s);\"\"\"\n",
        "          cur.execute(sql,(dt, day, min, max))\n",
        "\n",
        "      cur.execute(\"COMMIT\")\n",
        "\n",
        "    except Exception as err:\n",
        "        cur.execute(\"ROLLBACK\")\n",
        "\n"
      ],
      "execution_count": null,
      "outputs": []
    },
    {
      "cell_type": "markdown",
      "metadata": {
        "id": "RIiQ70nvtCRY"
      },
      "source": [
        "# **3. 서울 7일 평균/최소/최대 온도 읽어오기 (Incremental Update 버전)**"
      ]
    },
    {
      "cell_type": "code",
      "metadata": {
        "id": "3nFgg7I3tKOh"
      },
      "source": [
        "import requests\n",
        "from datetime import datetime, date\n",
        "import json\n",
        "\n",
        "from google.colab import files\n",
        "\n",
        "with open('config.txt', 'r') as f:\n",
        "  data = f.readline()\n",
        "  api_key = data\n",
        "  f.close()\n",
        "\n",
        "url = \"https://api.openweathermap.org/data/2.5/onecall?lat=37.34&lon=126.57&exclude=current,minutely,hourly,alerts&appid=\"+api_key\n",
        "\n",
        "response = requests.get(url)\n",
        "data = response.json()\n",
        "\n",
        "daily = data[\"daily\"]\n",
        "\n",
        "try:\n",
        "    # create a conncection\n",
        "    cur = get_Redshift_connection()\n",
        "  \n",
        "except Exception as err:\n",
        "    print(\"Exception occured while creating a connection\", err)\n",
        "\n",
        "else:\n",
        "    try:\n",
        "        sql = \"\"\"BEGIN;\n",
        "                    CREATE TABLE IF NOT EXISTS weather_forecast_inc (\n",
        "                      date DATE PRIMARY KEY,\n",
        "                      day float,\n",
        "                      min float,\n",
        "                      max float,\n",
        "                      created timestamp DEFAULT sysdate\n",
        "                    );\n",
        "\n",
        "                    CREATE TABLE IF NOT EXISTS #temp_weather_forecast (\n",
        "                      date DATE PRIMARY KEY,\n",
        "                      day float,\n",
        "                      min float,\n",
        "                      max float,\n",
        "                      created timestamp DEFAULT sysdate\n",
        "                    );\n",
        "\n",
        "                    INSERT INTO #temp_weather_forecast\n",
        "                    SELECT date, day, min, max, created \n",
        "                    FROM weather_forecast_inc; \n",
        "                     \n",
        "                    SELECT COUNT(1) FROM #temp_weather_forecast;\n",
        "                \"\"\"\n",
        "        cur.execute(sql)\n",
        "        bef_cnt = cur.fetchone()[0]\n",
        "\n",
        "        for entry in daily:\n",
        "            dt = datetime.fromtimestamp(entry[\"dt\"]).date()\n",
        "            day = entry[\"temp\"][\"day\"] #평균온도\n",
        "            min = entry[\"temp\"][\"min\"] #최소온도 \n",
        "            max = entry[\"temp\"][\"max\"] #최대온도\n",
        "\n",
        "            sql = \"\"\"INSERT INTO #temp_weather_forecast (date, day, min, max, created) VALUES (%s, %s, %s, %s, sysdate);\"\"\"\n",
        "            cur.execute(sql,(dt, day, min, max))\n",
        "\n",
        "        sql = \"\"\"SELECT COUNT(1) FROM #temp_weather_forecast;\"\"\"\n",
        "        cur.execute(sql)\n",
        "        aft_cnt = cur.fetchone()[0]\n",
        "\n",
        "        #추가된 데이터가 없을 경우, Exception으로 이동해서 ROLLBACK\n",
        "        if bef_cnt == aft_cnt:\n",
        "           raise Exception\n",
        "\n",
        "        sql = \"\"\"\n",
        "              DELETE FROM weather_forecast_inc;\n",
        "\n",
        "              INSERT INTO weather_forecast_inc\n",
        "              SELECT date, day, min, max, created \n",
        "              FROM (SELECT date, ROW_NUMBER() OVER (PARTITION BY date ORDER BY created DESC) nn, day, min, max, created\n",
        "                FROM #temp_weather_forecast\n",
        "                ORDER BY date, nn)\n",
        "              WHERE nn = 1; \n",
        "\n",
        "              SELECT date, COUNT(1) FROM weather_forecast_inc GROUP BY date HAVING COUNT(1)>1;\n",
        "              \"\"\"\n",
        "\n",
        "        cur.execute(sql)\n",
        "        result = cur.fetchone() \n",
        "\n",
        "        #date컬럼의 uniqueness 보장되는지 확인\n",
        "        if result != None:\n",
        "            raise Exception\n",
        "\n",
        "        cur.execute(\"COMMIT\")\n",
        "\n",
        "    except Exception as err:\n",
        "        print(\"err: \", err)\n",
        "        cur.execute(\"ROLLBACK\")\n",
        "\n",
        "        "
      ],
      "execution_count": null,
      "outputs": []
    }
  ]
}