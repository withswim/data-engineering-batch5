{
  "nbformat": 4,
  "nbformat_minor": 0,
  "metadata": {
    "colab": {
      "name": "[ Sooyoung] Airflow 1주차 숙제",
      "provenance": [],
      "collapsed_sections": [],
      "include_colab_link": true
    },
    "kernelspec": {
      "name": "python3",
      "display_name": "Python 3"
    },
    "language_info": {
      "name": "python"
    }
  },
  "cells": [
    {
      "cell_type": "markdown",
      "metadata": {
        "id": "view-in-github",
        "colab_type": "text"
      },
      "source": [
        "<a href=\"https://colab.research.google.com/github/withswim/data-engineering-batch5/blob/master/%5B_Sooyoung%5D_Airflow_1%EC%A3%BC%EC%B0%A8_%EC%88%99%EC%A0%9C.ipynb\" target=\"_parent\"><img src=\"https://colab.research.google.com/assets/colab-badge.svg\" alt=\"Open In Colab\"/></a>"
      ]
    },
    {
      "cell_type": "markdown",
      "metadata": {
        "id": "gJrXiA1COFKx"
      },
      "source": [
        "## **1. INSERT문 완성**"
      ]
    },
    {
      "cell_type": "code",
      "metadata": {
        "id": "Nd0wWJY9leOT"
      },
      "source": [
        "import requests\n",
        "\n",
        "def extract(url):\n",
        "  f = requests.get(url)\n",
        "  return (f.text)"
      ],
      "execution_count": null,
      "outputs": []
    },
    {
      "cell_type": "code",
      "metadata": {
        "id": "DFmQEUcxlz2H"
      },
      "source": [
        "import csv\n",
        "\n",
        "def transform(data):\n",
        "  reader = csv.reader(data.strip().split(\"\\n\"))\n",
        "  return reader"
      ],
      "execution_count": null,
      "outputs": []
    },
    {
      "cell_type": "code",
      "metadata": {
        "id": "cZBZBktjmMxb",
        "colab": {
          "base_uri": "https://localhost:8080/",
          "height": 130
        },
        "outputId": "548a48b7-78e8-43fb-97cd-2afa9c64a144"
      },
      "source": [
        "import psycopg2\n",
        "\n",
        "# Redshift connection 함수\n",
        "def get_Redshift_connection():\n",
        "    host = \"learnde.cduaw970ssvt.ap-northeast-2.redshift.amazonaws.com\"\n",
        "    redshift_user = \"ID\"\n",
        "    redshift_pass = \"PW\"\n",
        "    port = 5439\n",
        "    dbname = \"dev\"\n",
        "    conn = psycopg2.connect(\"dbname={dbname} user={user} host={host} password={password} port={port}\".format(\n",
        "        dbname=dbname,\n",
        "        user=redshift_user,\n",
        "        password=redshift_pass,\n",
        "        host=host,\n",
        "        port=port\n",
        "    ))\n",
        "    conn.set_session(autocommit=True)\n",
        "    return conn.cursor()\n",
        "\n",
        "\"\"\"\n",
        "CREATE TABLE raw_data.name_gender (\n",
        "  name varchar(64),\n",
        "  gender varchar(16)\n",
        ")\n",
        "\"\"\"\n",
        "\n",
        "def load(csv_reader):\n",
        "\n",
        "    try:\n",
        "        # create a conncection\n",
        "        cur = get_Redshift_connection()\n",
        "      \n",
        "    except Exception as err:\n",
        "        print(\"Exception occured while creating a connection\", err)\n",
        "\n",
        "    else:\n",
        "        sql = \"\"\"CREATE TALBE IF NOT EXISTS name_gender (\n",
        "            name varchar(64),\n",
        "            gender varchar(16)\n",
        "            );\n",
        "            DELETE FROM name_gender;\"\"\"\n",
        "        cur.execute(sql)\n",
        "\n",
        "        for name, gender in csv_reader:\n",
        "            sql = \"\"\"INSERT INTO RAW_DATA.NAME_GENDER (NAME, GENDER) VALUES (%s, %s);\"\"\"\n",
        "            cur.execute(sql)\n",
        "\n",
        "        cur.close()\n",
        "\n",
        "   "
      ],
      "execution_count": null,
      "outputs": [
        {
          "output_type": "error",
          "ename": "SyntaxError",
          "evalue": "ignored",
          "traceback": [
            "\u001b[0;36m  File \u001b[0;32m\"<ipython-input-5-b5bb4261c6e3>\"\u001b[0;36m, line \u001b[0;32m54\u001b[0m\n\u001b[0;31m    \u001b[0m\n\u001b[0m    ^\u001b[0m\n\u001b[0;31mSyntaxError\u001b[0m\u001b[0;31m:\u001b[0m EOF while scanning triple-quoted string literal\n"
          ]
        }
      ]
    },
    {
      "cell_type": "markdown",
      "metadata": {
        "id": "810s3DEzfFIc"
      },
      "source": [
        "**Extraxt부터 함수를 하나씩 실행**"
      ]
    },
    {
      "cell_type": "code",
      "metadata": {
        "colab": {
          "base_uri": "https://localhost:8080/"
        },
        "id": "cmUcq_tDfEQC",
        "outputId": "891a6d33-5fb5-4081-a6e9-25a34c99dcfd"
      },
      "source": [
        "link = \"https://s3-geospatial.s3-us-west-2.amazonaws.com/name_gender.csv\"\n",
        "\n",
        "data = extract(link)\n",
        "csv_reader = transform(data)\n",
        "load(csv_reader)"
      ],
      "execution_count": null,
      "outputs": [
        {
          "output_type": "stream",
          "name": "stdout",
          "text": [
            "Exception occured while creating a connection could not translate host name \"learnde.cduaw970ssvt.ap-northeast-2.redshift.amazonaws.com\" to address: Name or service not known\n",
            "\n"
          ]
        }
      ]
    },
    {
      "cell_type": "markdown",
      "metadata": {
        "id": "jUG1JeK-julV"
      },
      "source": [
        "# **2. OpenWeathermap API: 서울 7일 평균/최소/최대 온도 읽어오기** \n"
      ]
    },
    {
      "cell_type": "markdown",
      "metadata": {
        "id": "6vUcSo6YLjC2"
      },
      "source": [
        "확인 포인트:\n",
        "1. api에서 제공하는 온도는 **Kalvin Degrees**인 것으로 보여 **celsius**로 변환하는 함수를 만들었음\n",
        "2. api에서 받아온, current.dt는 UTC 날짜이고 daily.temp.dt는 해당지역(서울) 기준 날짜로 만들어진 것으로 보임. 시차에 따라 첫번째 데이터가 동일날짜로 보일 수 있음.\n",
        "   향후 7일간의 날짜는 api에서 제공하는 총 8개의 데이터를 모두 보여주었음."
      ]
    },
    {
      "cell_type": "code",
      "metadata": {
        "colab": {
          "base_uri": "https://localhost:8080/"
        },
        "id": "RgJvk-jojt-X",
        "outputId": "33adb577-f863-4321-d685-70773bbc7814"
      },
      "source": [
        "import requests\n",
        "from datetime import date\n",
        "import json\n",
        "\n",
        "url = 'https://api.openweathermap.org/data/2.5/onecall?lat=35.9078&lon=127.7669&appid=56b50656581980953614f5a047b719ab'\n",
        "r = requests.get(url)\n",
        "\n",
        "data = r.json()\n",
        "\n",
        "def to_celsius(kevin_temp):\n",
        "  return kevin_temp - 273.15\n",
        "\n",
        "forecast = data[\"daily\"]\n",
        "\n",
        "print(\"Today is %s\" %date.fromtimestamp(data[\"current\"][\"dt\"]).strftime('%Y-%m-%d'))\n",
        "print(\"Weather forecast for the next 7 days\")\n",
        "\n",
        "for i in range(8):\n",
        "  print(\"%s  day:%3d  min:%3d  max:%3d\" % ( date.fromtimestamp(forecast[i][\"dt\"]).strftime('%Y-%m-%d'), round(to_celsius(forecast[i][\"temp\"][\"day\"])),round(to_celsius(forecast[i][\"temp\"][\"min\"])),round(to_celsius(forecast[i][\"temp\"][\"max\"])) )   )\n"
      ],
      "execution_count": null,
      "outputs": [
        {
          "output_type": "stream",
          "name": "stdout",
          "text": [
            "Today is 2021-10-17\n",
            "Weather forecast for the next 7 days\n",
            "2021-10-17  day:  8  min: -3  max:  8\n",
            "2021-10-18  day: 12  min:  0  max: 12\n",
            "2021-10-19  day: 11  min:  1  max: 11\n",
            "2021-10-20  day: 10  min:  0  max: 11\n",
            "2021-10-21  day: 11  min:  2  max: 11\n",
            "2021-10-22  day: 13  min:  4  max: 13\n",
            "2021-10-23  day: 14  min:  4  max: 15\n",
            "2021-10-24  day: 16  min:  6  max: 16\n"
          ]
        }
      ]
    }
  ]
}